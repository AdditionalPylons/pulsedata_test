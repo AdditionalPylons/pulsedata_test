{
 "cells": [
  {
   "cell_type": "code",
   "execution_count": 38,
   "id": "d84bacf7",
   "metadata": {},
   "outputs": [],
   "source": [
    "import findspark\n",
    "findspark.init()"
   ]
  },
  {
   "cell_type": "code",
   "execution_count": 41,
   "id": "22a98ffe",
   "metadata": {},
   "outputs": [],
   "source": [
    "import pathlib\n",
    "\n",
    "# Can remove this import since it's no longer used\n",
    "# import pandas as pd\n",
    "import pyspark\n",
    "\n",
    "from pyspark.sql import functions as sf\n",
    "from pyspark.sql import Window"
   ]
  },
  {
   "cell_type": "code",
   "execution_count": 42,
   "id": "9ca2fe83",
   "metadata": {},
   "outputs": [],
   "source": [
    "spark = pyspark.sql.SparkSession.builder.master(\"local\").getOrCreate()"
   ]
  },
  {
   "cell_type": "code",
   "execution_count": 118,
   "id": "698a031c",
   "metadata": {},
   "outputs": [],
   "source": [
    "\n",
    "# This can be rewritten to use Spark-native functions.\n",
    "# This removes a dependency we don't use otherwise\n",
    "# and avoids loading the whole df into memory\n",
    "def read_csv(path, date_cols=None):\n",
    "    # Spark requires path as a str\n",
    "    path = str(path)\n",
    "\n",
    "    df = (\n",
    "        spark.read\n",
    "        .option(\"delimiter\", \"|\")\n",
    "        .option(\"header\", \"true\")\n",
    "        .csv(path)\n",
    "    )\n",
    "\n",
    "    if date_cols:\n",
    "        for date_col in date_cols:\n",
    "            df.withColumn(date_col, sf.col(date_col).cast(\"Date\"))\n",
    "            \n",
    "    return df"
   ]
  },
  {
   "cell_type": "code",
   "execution_count": 119,
   "id": "e2ade5e4",
   "metadata": {},
   "outputs": [],
   "source": [
    "def rename_columns(sdf, name_map):\n",
    "    for from_col, to_col in name_map.items():\n",
    "        sdf = sdf.withColumnRenamed(from_col, to_col)\n",
    "    return sdf"
   ]
  },
  {
   "cell_type": "code",
   "execution_count": 120,
   "id": "153070a1",
   "metadata": {},
   "outputs": [],
   "source": [
    "def transform_encounters(enc_sdf):\n",
    "    sdf2 = (\n",
    "        enc_sdf\n",
    "        .withColumn('ROW_ID', sf.monotonically_increasing_id())\n",
    "        .withColumn('PRIORITY', sf.row_number().over(Window.partitionBy('ENC_ID').orderBy('ROW_ID')))\n",
    "        .drop('ROW_ID')\n",
    "        .groupBy(['ENC_ID', 'DATE', 'MRN'])\n",
    "        .pivot('PRIORITY')\n",
    "        .agg(sf.first('ICD_CODE'))\n",
    "    )\n",
    "    return rename_columns(sdf2, {i: f'ICD_CODE_{i}' for i in sdf2.columns[3:]})"
   ]
  },
  {
   "cell_type": "code",
   "execution_count": 121,
   "id": "50852b5e",
   "metadata": {},
   "outputs": [],
   "source": [
    "def age_bucket(age):\n",
    "    if age > 100:\n",
    "        return 100\n",
    "    elif age > 90:\n",
    "        return 90\n",
    "    elif age > 80:\n",
    "        return 90\n",
    "    elif age > 70:\n",
    "        return 70\n",
    "    elif age > 60:\n",
    "        return 60\n",
    "    elif age > 50:\n",
    "        return 50\n",
    "    elif age > 40:\n",
    "        return 40\n",
    "    else:\n",
    "        # ignore all patients under 40\n",
    "        return 0"
   ]
  },
  {
   "cell_type": "code",
   "execution_count": 122,
   "id": "339af312",
   "metadata": {},
   "outputs": [],
   "source": [
    "# change this to data_2, data_3 or data_4 to use a different dataset\n",
    "data_folder = pathlib.Path('data_1')\n",
    "\n",
    "code_groups = pathlib.Path('code_groups.csv')\n",
    "demographics = data_folder.joinpath('demographics.csv')\n",
    "encounters = data_folder.joinpath('encounters.csv')"
   ]
  },
  {
   "cell_type": "code",
   "execution_count": 123,
   "id": "4b5d882a",
   "metadata": {},
   "outputs": [],
   "source": [
    "code_groups_sdf = read_csv(code_groups)\n",
    "demo_sdf = read_csv(demographics, date_cols=['DATE_OF_BIRTH'])\n",
    "enc_sdf = read_csv(encounters)"
   ]
  },
  {
   "cell_type": "code",
   "execution_count": 124,
   "id": "7e3d0150",
   "metadata": {},
   "outputs": [
    {
     "name": "stderr",
     "output_type": "stream",
     "text": [
      "                                                                                \r"
     ]
    }
   ],
   "source": [
    "enc_sdf = transform_encounters(enc_sdf)"
   ]
  },
  {
   "cell_type": "code",
   "execution_count": 125,
   "id": "c2a85008",
   "metadata": {},
   "outputs": [],
   "source": [
    "demo_sdf = demo_sdf.withColumn(\"FULL_MRN\", sf.concat(\"CLINIC\", \"MRN\"))"
   ]
  },
  {
   "cell_type": "code",
   "execution_count": 126,
   "id": "48aa1e1a",
   "metadata": {},
   "outputs": [],
   "source": [
    "results = (\n",
    "    enc_sdf\n",
    "    .join(demo_sdf, enc_sdf.MRN == demo_sdf.FULL_MRN)\n",
    "    .withColumn('AGE', sf.datediff('DATE', 'DATE_OF_BIRTH') / 365)\n",
    "    .withColumn('AGE_BUCKET', sf.udf(age_bucket)(sf.col('AGE')))\n",
    "    .join(code_groups_sdf, enc_sdf.ICD_CODE_1==code_groups_sdf.ICD_CODE)\n",
    "    .groupBy('AGE_BUCKET', 'GROUP').count()\n",
    "    .withColumn(\n",
    "        '_row',\n",
    "        sf.row_number().over(Window().partitionBy(['AGE_BUCKET']).orderBy(sf.desc('count'))))\n",
    "    .filter(sf.col('_row') == 1)\n",
    "    .drop('_row')\n",
    "    .filter(sf.col('AGE_BUCKET') != 0)\n",
    "    .orderBy('AGE_BUCKET')\n",
    ")"
   ]
  },
  {
   "cell_type": "code",
   "execution_count": 127,
   "id": "e762006b",
   "metadata": {},
   "outputs": [
    {
     "name": "stderr",
     "output_type": "stream",
     "text": [
      "                                                                                \r"
     ]
    },
    {
     "name": "stdout",
     "output_type": "stream",
     "text": [
      "+----------+-----+-----+\n",
      "|AGE_BUCKET|GROUP|count|\n",
      "+----------+-----+-----+\n",
      "|       100|   10|    7|\n",
      "|        40|    3|   10|\n",
      "|        50|    3|    1|\n",
      "|        60|    4|    8|\n",
      "|        70|    7|    4|\n",
      "|        90|   10|   18|\n",
      "+----------+-----+-----+\n",
      "\n"
     ]
    }
   ],
   "source": [
    "results.show()"
   ]
  },
  {
   "cell_type": "code",
   "execution_count": null,
   "id": "2f479aca",
   "metadata": {},
   "outputs": [],
   "source": []
  }
 ],
 "metadata": {
  "kernelspec": {
   "display_name": "Python 3 (ipykernel)",
   "language": "python",
   "name": "python3"
  },
  "language_info": {
   "codemirror_mode": {
    "name": "ipython",
    "version": 3
   },
   "file_extension": ".py",
   "mimetype": "text/x-python",
   "name": "python",
   "nbconvert_exporter": "python",
   "pygments_lexer": "ipython3",
   "version": "3.8.13"
  }
 },
 "nbformat": 4,
 "nbformat_minor": 5
}
