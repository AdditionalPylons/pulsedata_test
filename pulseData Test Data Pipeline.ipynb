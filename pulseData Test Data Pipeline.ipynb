{
 "cells": [
  {
   "cell_type": "code",
   "execution_count": 117,
   "id": "d84bacf7",
   "metadata": {},
   "outputs": [],
   "source": [
    "import findspark\n",
    "findspark.init()"
   ]
  },
  {
   "cell_type": "code",
   "execution_count": 118,
   "id": "22a98ffe",
   "metadata": {},
   "outputs": [],
   "source": [
    "from enum import Enum\n",
    "import pathlib\n",
    "\n",
    "from pyspark.sql import (\n",
    "                        DataFrame,\n",
    "                        functions as sf,\n",
    "                        SparkSession,\n",
    "                        types,\n",
    "                        Window\n",
    ")\n"
   ]
  },
  {
   "cell_type": "code",
   "execution_count": 119,
   "id": "7172fce5",
   "metadata": {},
   "outputs": [],
   "source": [
    "OutputMode = Enum(\"OutputMode\", \"results_only stats verbose\")\n",
    "ReadMode = Enum(\"ReadMode\", \"csv_only parquet_only csv_to_parquet\")\n",
    "\n",
    "# Config constants, changing these\n",
    "# will change the flow, runtime, and\n",
    "# output of the notebook\n",
    "DATA_FOLDER = \"data_test\"\n",
    "OUTPUT_MODE = OutputMode.results_only\n",
    "READ_MODE = ReadMode.parquet_only\n"
   ]
  },
  {
   "cell_type": "code",
   "execution_count": 120,
   "id": "9ca2fe83",
   "metadata": {},
   "outputs": [],
   "source": [
    "spark = SparkSession.builder.master(\"local\").getOrCreate()"
   ]
  },
  {
   "cell_type": "code",
   "execution_count": 121,
   "id": "12f97337",
   "metadata": {},
   "outputs": [],
   "source": [
    "# Limited number of schemas with few columns,\n",
    "# so let's define them here. Makes data types more\n",
    "# reliable and speeds up DF creation, since we skip\n",
    "# initial pass through the file to infer schema.\n",
    "\n",
    "CODE_GROUPS_SCHEMA = types.StructType([\n",
    "    types.StructField(\"ICD_CODE\",types.StringType(),nullable=True),\n",
    "    types.StructField(\"GROUP\",types.StringType(),nullable=True),\n",
    "])\n",
    "\n",
    "DEMOGRAPHICS_SCHEMA = types.StructType([\n",
    "    types.StructField(\"CLINIC\",types.StringType(),nullable=True),\n",
    "    types.StructField(\"MRN\",types.StringType(),nullable=True),\n",
    "    types.StructField(\"FIRST_NAME\",types.StringType(),nullable=True),\n",
    "    types.StructField(\"LAST_NAME\",types.StringType(),nullable=True),\n",
    "    types.StructField(\"DATE_OF_BIRTH\",types.DateType(),nullable=True),\n",
    "])\n",
    "\n",
    "ENCOUNTERS_SCHEMA = types.StructType([\n",
    "    types.StructField(\"DATE\",types.DateType(),nullable=True),\n",
    "    types.StructField(\"ENC_ID\",types.StringType(),nullable=True),\n",
    "    types.StructField(\"MRN\",types.StringType(),nullable=True),\n",
    "    types.StructField(\"ICD_CODE\",types.StringType(),nullable=True),\n",
    "])"
   ]
  },
  {
   "cell_type": "code",
   "execution_count": 122,
   "id": "697cdcdd",
   "metadata": {},
   "outputs": [],
   "source": [
    "def csv_to_parquet(path: str) -> None:\n",
    "    \"\"\"\n",
    "    Export csv file as a parquet file\n",
    "    with the appropriate schema.\n",
    "\n",
    "    :param path: File path to the csv\n",
    "    \"\"\"\n",
    "\n",
    "    filename = path.split(\"/\")[-1].split(\".\")[0]\n",
    "\n",
    "    if filename.casefold() == \"code_groups\":\n",
    "        schema = CODE_GROUPS_SCHEMA\n",
    "    elif filename.casefold() == \"demographics\":\n",
    "        schema = DEMOGRAPHICS_SCHEMA\n",
    "    elif filename.casefold() == \"encounters\":\n",
    "        schema = ENCOUNTERS_SCHEMA\n",
    "\n",
    "    df = (\n",
    "        spark.read\n",
    "        .option(\"delimiter\", \"|\")\n",
    "        .option(\"header\", \"true\")\n",
    "        .schema(schema)\n",
    "        .csv(path)\n",
    "    )\n",
    "            \n",
    "    parquet_path = path.split(\".\")[0]+\".parquet\"\n",
    "\n",
    "    df.write.mode(\"overwrite\").parquet(parquet_path)"
   ]
  },
  {
   "cell_type": "code",
   "execution_count": 123,
   "id": "81c3f556",
   "metadata": {},
   "outputs": [],
   "source": [
    "def read_file(path: str) -> DataFrame:\n",
    "    \"\"\"\n",
    "    Read file and convert to a Spark DataFrame.\n",
    "    Supported filetypes are csv & parquet.\n",
    "\n",
    "    :param path: File path of the file to process\n",
    "    \"\"\"\n",
    "\n",
    "    filename, extension = path.split(\"/\")[-1].split(\".\")\n",
    "\n",
    "    if filename.casefold() == \"code_groups\":\n",
    "        schema = CODE_GROUPS_SCHEMA\n",
    "    elif filename.casefold() == \"demographics\":\n",
    "        schema = DEMOGRAPHICS_SCHEMA\n",
    "    elif filename.casefold() == \"encounters\":\n",
    "        schema = ENCOUNTERS_SCHEMA\n",
    "\n",
    "    if extension == \"csv\":\n",
    "        df = (\n",
    "            spark.read\n",
    "            .option(\"delimiter\", \"|\")\n",
    "            .option(\"header\", \"true\")\n",
    "            .schema(schema)\n",
    "            .csv(path)\n",
    "        )\n",
    "\n",
    "    elif extension == \"parquet\":\n",
    "         df = (\n",
    "            spark.read\n",
    "            .schema(schema)\n",
    "            .parquet(path)\n",
    "         )\n",
    "    else:\n",
    "        raise TypeError(f\"{path} is not a csv or parquet file!\")\n",
    "\n",
    "    return df\n"
   ]
  },
  {
   "cell_type": "code",
   "execution_count": 124,
   "id": "e2ade5e4",
   "metadata": {},
   "outputs": [],
   "source": [
    "def rename_columns(sdf, name_map):\n",
    "    for from_col, to_col in name_map.items():\n",
    "        sdf = sdf.withColumnRenamed(from_col, to_col)\n",
    "    return sdf"
   ]
  },
  {
   "cell_type": "code",
   "execution_count": 125,
   "id": "50852b5e",
   "metadata": {},
   "outputs": [],
   "source": [
    "def age_bucket(age):\n",
    "    if age > 100:\n",
    "        return 100\n",
    "    elif age > 90:\n",
    "        return 90\n",
    "    elif age > 80:\n",
    "        return 80\n",
    "    elif age > 70:\n",
    "        return 70\n",
    "    elif age > 60:\n",
    "        return 60\n",
    "    elif age > 50:\n",
    "        return 50\n",
    "    elif age > 40:\n",
    "        return 40\n",
    "    else:\n",
    "        # ignore all patients under 40\n",
    "        return 0"
   ]
  },
  {
   "cell_type": "code",
   "execution_count": 126,
   "id": "339af312",
   "metadata": {},
   "outputs": [],
   "source": [
    "# Make any changes in constants above, not here\n",
    "data_folder = pathlib.Path(DATA_FOLDER)\n",
    "\n",
    "# spark.read requires path to be a str,\n",
    "# converting them all here in one place\n",
    "# instead of handling inside funcs\n",
    "if READ_MODE == Mode.csv_only or READ_MODE == Mode.csv_to_parquet:\n",
    "    code_groups = str(pathlib.Path('code_groups.csv'))\n",
    "    demographics = str(data_folder.joinpath('demographics.csv'))\n",
    "    encounters = str(data_folder.joinpath('encounters.csv'))\n",
    "\n",
    "if READ_MODE == Mode.csv_to_parquet:\n",
    "    for csv in [code_groups, demographics, encounters]:\n",
    "        csv_to_parquet(csv)\n",
    "\n",
    "if READ_MODE == Mode.parquet_only or READ_MODE == csv_to_parquet:\n",
    "    code_groups = str(pathlib.Path('code_groups.parquet'))\n",
    "    demographics = str(data_folder.joinpath('demographics.parquet'))\n",
    "    encounters = str(data_folder.joinpath('encounters.parquet'))\n",
    "\n",
    "code_groups_sdf = read_file(code_groups)\n",
    "demo_sdf = read_file(demographics)\n",
    "enc_sdf = read_file(encounters)"
   ]
  },
  {
   "cell_type": "code",
   "execution_count": 127,
   "id": "1fe1b577",
   "metadata": {},
   "outputs": [
    {
     "name": "stdout",
     "output_type": "stream",
     "text": [
      "-----CODE GROUPS-----\n"
     ]
    },
    {
     "name": "stderr",
     "output_type": "stream",
     "text": [
      "                                                                                \r"
     ]
    },
    {
     "name": "stdout",
     "output_type": "stream",
     "text": [
      "+---------------+\n",
      "|Duplicate Count|\n",
      "+---------------+\n",
      "|              0|\n",
      "+---------------+\n",
      "\n",
      "Null Counts\n",
      "+--------+-----+\n",
      "|ICD_CODE|GROUP|\n",
      "+--------+-----+\n",
      "|       0|    0|\n",
      "+--------+-----+\n",
      "\n",
      "+-------+--------+------------------+\n",
      "|summary|ICD_CODE|             GROUP|\n",
      "+-------+--------+------------------+\n",
      "|  count|    4995|              4995|\n",
      "|   mean|    null| 5.531131131131131|\n",
      "| stddev|    null|2.8903991264796347|\n",
      "|    min|   A07.0|                 1|\n",
      "|    max| Z98.818|                 9|\n",
      "+-------+--------+------------------+\n",
      "\n",
      "-----DEMO-----\n"
     ]
    },
    {
     "name": "stderr",
     "output_type": "stream",
     "text": [
      "                                                                                \r"
     ]
    },
    {
     "name": "stdout",
     "output_type": "stream",
     "text": [
      "+---------------+\n",
      "|Duplicate Count|\n",
      "+---------------+\n",
      "|              0|\n",
      "+---------------+\n",
      "\n",
      "Null Counts\n",
      "+------+---+----------+---------+-------------+\n",
      "|CLINIC|MRN|FIRST_NAME|LAST_NAME|DATE_OF_BIRTH|\n",
      "+------+---+----------+---------+-------------+\n",
      "|     0|  0|         0|        0|            2|\n",
      "+------+---+----------+---------+-------------+\n",
      "\n",
      "+-------+------+--------------------+----------+---------+\n",
      "|summary|CLINIC|                 MRN|FIRST_NAME|LAST_NAME|\n",
      "+-------+------+--------------------+----------+---------+\n",
      "|  count|    11|                  11|        11|       11|\n",
      "|   mean|  null| 4.454543181818182E7|      null|     null|\n",
      "| stddev|  null|3.2153053946735825E7|      null|     null|\n",
      "|    min|     A|            11100000|   Another|        A|\n",
      "|    max|     C|            88776655|        迅|       鲁|\n",
      "+-------+------+--------------------+----------+---------+\n",
      "\n",
      "-----ENC-----\n"
     ]
    },
    {
     "name": "stderr",
     "output_type": "stream",
     "text": [
      "                                                                                \r"
     ]
    },
    {
     "name": "stdout",
     "output_type": "stream",
     "text": [
      "+---------------+\n",
      "|Duplicate Count|\n",
      "+---------------+\n",
      "|              2|\n",
      "+---------------+\n",
      "\n",
      "Null Counts\n",
      "+----+------+---+--------+\n",
      "|DATE|ENC_ID|MRN|ICD_CODE|\n",
      "+----+------+---+--------+\n",
      "|   0|     0|  0|       0|\n",
      "+----+------+---+--------+\n",
      "\n",
      "+-------+------------------+---------+--------+\n",
      "|summary|            ENC_ID|      MRN|ICD_CODE|\n",
      "+-------+------------------+---------+--------+\n",
      "|  count|                21|       21|      21|\n",
      "|   mean|121298.57142857143|     null|    null|\n",
      "| stddev| 9075.238038593967|     null|    null|\n",
      "|    min|            102542|A12345678| H25.813|\n",
      "|    max|            133273|C11111111|W94.32XD|\n",
      "+-------+------------------+---------+--------+\n",
      "\n"
     ]
    }
   ],
   "source": [
    "# Data quality checks\n",
    "\n",
    "def check_dupes(df):\n",
    "    return (\n",
    "        df.groupBy(df.columns)\n",
    "        .count()\n",
    "        .where(sf.col(\"count\") > 1)\n",
    "        .select(sf.coalesce(sf.sum(\"count\"), sf.lit(0)))\n",
    "        .withColumnRenamed(\"coalesce(sum(count), 0)\", f\"Duplicate Count\")\n",
    "        .show()\n",
    "    )\n",
    "\n",
    "def check_nulls(df):\n",
    "    print(\"Null Counts\")\n",
    "    return df.select([sf.count(sf.when(sf.col(c).isNull(), c)).alias(c) for c in df.columns]\n",
    "   ).show()\n",
    "\n",
    "def run_single_df_checks(df):\n",
    "    check_dupes(df)\n",
    "    check_nulls(df)\n",
    "    df.describe().show()\n",
    "\n",
    "def run_all_checks():\n",
    "    print(\"-----CODE GROUPS-----\")\n",
    "    run_single_df_checks(code_groups_sdf)\n",
    "    print(\"-----DEMO-----\")\n",
    "    run_single_df_checks(demo_sdf)\n",
    "    print(\"-----ENC-----\")\n",
    "    run_single_df_checks(enc_sdf)\n",
    "\n",
    "if OUTPUT_MODE != OutputMode.results_only:\n",
    "    run_all_checks()"
   ]
  },
  {
   "cell_type": "code",
   "execution_count": 128,
   "id": "597f8223",
   "metadata": {},
   "outputs": [],
   "source": [
    "def clean_data(df, type):\n",
    "    # Pulled from https://www.johndcook.com/blog/2019/05/05/regex_icd_codes/\n",
    "    N = \"\\d{3}\\.?\\d{0,2}\"\n",
    "    E = \"E\\d{3}\\.?\\d?\"\n",
    "    V = \"V\\d{2}\\.?\\d{0,2}\"\n",
    "    icd9_regex = \"|\".join([N, E, V])\n",
    "    icd10_regex = \"[A-TV-Z][0-9][0-9AB]\\.?[0-9A-TV-Z]{0,4}\"\n",
    "\n",
    "    # Allows weird dates like 0000-99-99 but good enough for our purposes\n",
    "    date_regex = \"[0-9]{4}-[0-9]{2}-[0-9]{2}\"\n",
    "    #name_regex = r\"[A-Za-z]+\"\n",
    "\n",
    "    if type == \"code_groups\":\n",
    "        df = (df.where(\n",
    "            (sf.col(\"ICD_CODE\").isNotNull())\n",
    "        &   (sf.col(\"GROUP\").isNotNull())\n",
    "        &   (sf.col(\"ICD_CODE\").rlike(icd9_regex) | sf.col(\"ICD_CODE\").rlike(icd10_regex))\n",
    "        ))\n",
    "    elif type == \"demographics\":\n",
    "        df = (df.where(\n",
    "            (sf.col(\"DATE_OF_BIRTH\").isNotNull())\n",
    "        &   (sf.col(\"MRN\").isNotNull())\n",
    "        &   (sf.col(\"DATE_OF_BIRTH\").rlike(date_regex))\n",
    "        &   (sf.col(\"DATE_OF_BIRTH\") > sf.date_sub(sf.current_date(), (120 * 365)))\n",
    "        #&  (sf.col(\"FIRST_NAME\").rlike(name_regex))\n",
    "        #&  (sf.col(\"LAST_NAME\").rlike(name_regex))\n",
    "        ))\n",
    "    elif type == \"encounters\":\n",
    "        df = (df.where(\n",
    "            (sf.col(\"DATE\").isNotNull())\n",
    "        &   (sf.col(\"MRN\").isNotNull())\n",
    "        &   (sf.col(\"ICD_CODE\").isNotNull())\n",
    "        &   (sf.col(\"DATE\").rlike(date_regex))\n",
    "        &   (sf.col(\"DATE\") > sf.date_sub(sf.current_date(), (15 * 365)))\n",
    "        &   (sf.col(\"ICD_CODE\").rlike(icd9_regex) | sf.col(\"ICD_CODE\").rlike(icd10_regex))\n",
    "        ))\n",
    "\n",
    "    df = df.dropDuplicates()\n",
    "\n",
    "    return df\n"
   ]
  },
  {
   "cell_type": "code",
   "execution_count": 129,
   "id": "2f0572e6",
   "metadata": {},
   "outputs": [
    {
     "name": "stdout",
     "output_type": "stream",
     "text": [
      "-----CODE GROUPS-----\n"
     ]
    },
    {
     "name": "stderr",
     "output_type": "stream",
     "text": [
      "                                                                                \r"
     ]
    },
    {
     "name": "stdout",
     "output_type": "stream",
     "text": [
      "+---------------+\n",
      "|Duplicate Count|\n",
      "+---------------+\n",
      "|              0|\n",
      "+---------------+\n",
      "\n",
      "Null Counts\n"
     ]
    },
    {
     "name": "stderr",
     "output_type": "stream",
     "text": [
      "                                                                                \r"
     ]
    },
    {
     "name": "stdout",
     "output_type": "stream",
     "text": [
      "+--------+-----+\n",
      "|ICD_CODE|GROUP|\n",
      "+--------+-----+\n",
      "|       0|    0|\n",
      "+--------+-----+\n",
      "\n"
     ]
    },
    {
     "name": "stderr",
     "output_type": "stream",
     "text": [
      "                                                                                \r"
     ]
    },
    {
     "name": "stdout",
     "output_type": "stream",
     "text": [
      "+-------+--------+------------------+\n",
      "|summary|ICD_CODE|             GROUP|\n",
      "+-------+--------+------------------+\n",
      "|  count|    4995|              4995|\n",
      "|   mean|    null| 5.531131131131131|\n",
      "| stddev|    null|2.8903991264796374|\n",
      "|    min|   A07.0|                 1|\n",
      "|    max| Z98.818|                 9|\n",
      "+-------+--------+------------------+\n",
      "\n",
      "-----DEMO-----\n"
     ]
    },
    {
     "name": "stderr",
     "output_type": "stream",
     "text": [
      "                                                                                \r"
     ]
    },
    {
     "name": "stdout",
     "output_type": "stream",
     "text": [
      "+---------------+\n",
      "|Duplicate Count|\n",
      "+---------------+\n",
      "|              0|\n",
      "+---------------+\n",
      "\n",
      "Null Counts\n"
     ]
    },
    {
     "name": "stderr",
     "output_type": "stream",
     "text": [
      "                                                                                \r"
     ]
    },
    {
     "name": "stdout",
     "output_type": "stream",
     "text": [
      "+------+---+----------+---------+-------------+\n",
      "|CLINIC|MRN|FIRST_NAME|LAST_NAME|DATE_OF_BIRTH|\n",
      "+------+---+----------+---------+-------------+\n",
      "|     0|  0|         0|        0|            0|\n",
      "+------+---+----------+---------+-------------+\n",
      "\n"
     ]
    },
    {
     "name": "stderr",
     "output_type": "stream",
     "text": [
      "                                                                                \r"
     ]
    },
    {
     "name": "stdout",
     "output_type": "stream",
     "text": [
      "+-------+------+--------------------+----------+---------+\n",
      "|summary|CLINIC|                 MRN|FIRST_NAME|LAST_NAME|\n",
      "+-------+------+--------------------+----------+---------+\n",
      "|  count|     7|                   7|         7|        7|\n",
      "|   mean|  null| 4.285553928571428E7|      null|     null|\n",
      "| stddev|  null|3.2499443156393424E7|      null|     null|\n",
      "|    min|     A|            11100000|   Another|        A|\n",
      "|    max|     C|            87654321|     Sonic|   Wiggum|\n",
      "+-------+------+--------------------+----------+---------+\n",
      "\n",
      "-----ENC-----\n"
     ]
    },
    {
     "name": "stderr",
     "output_type": "stream",
     "text": [
      "                                                                                \r"
     ]
    },
    {
     "name": "stdout",
     "output_type": "stream",
     "text": [
      "+---------------+\n",
      "|Duplicate Count|\n",
      "+---------------+\n",
      "|              0|\n",
      "+---------------+\n",
      "\n",
      "Null Counts\n"
     ]
    },
    {
     "name": "stderr",
     "output_type": "stream",
     "text": [
      "                                                                                \r"
     ]
    },
    {
     "name": "stdout",
     "output_type": "stream",
     "text": [
      "+----+------+---+--------+\n",
      "|DATE|ENC_ID|MRN|ICD_CODE|\n",
      "+----+------+---+--------+\n",
      "|   0|     0|  0|       0|\n",
      "+----+------+---+--------+\n",
      "\n"
     ]
    },
    {
     "name": "stderr",
     "output_type": "stream",
     "text": [
      "[Stage 156:===================================================> (196 + 1) / 200]\r"
     ]
    },
    {
     "name": "stdout",
     "output_type": "stream",
     "text": [
      "+-------+-----------------+---------+--------+\n",
      "|summary|           ENC_ID|      MRN|ICD_CODE|\n",
      "+-------+-----------------+---------+--------+\n",
      "|  count|               20|       20|      20|\n",
      "|   mean|         122236.4|     null|    null|\n",
      "| stddev|8200.768541648045|     null|    null|\n",
      "|    min|           102542|A12345678| H25.813|\n",
      "|    max|           133273|C11111111|W94.32XD|\n",
      "+-------+-----------------+---------+--------+\n",
      "\n"
     ]
    },
    {
     "name": "stderr",
     "output_type": "stream",
     "text": [
      "                                                                                \r"
     ]
    }
   ],
   "source": [
    "code_groups_sdf = clean_data(code_groups_sdf, \"code_groups\")\n",
    "demo_sdf = clean_data(demo_sdf, \"demographics\")\n",
    "enc_sdf = clean_data(enc_sdf, \"encounters\")\n",
    "\n",
    "if OUTPUT_MODE != OutputMode.results_only:\n",
    "    run_all_checks()"
   ]
  },
  {
   "cell_type": "code",
   "execution_count": 130,
   "id": "153070a1",
   "metadata": {},
   "outputs": [],
   "source": [
    "def transform_encounters(enc_sdf):\n",
    "    sdf2 = (\n",
    "        enc_sdf\n",
    "        .withColumn('ROW_ID', sf.monotonically_increasing_id())\n",
    "        .withColumn('PRIORITY', sf.row_number().over(Window.partitionBy('ENC_ID').orderBy('ROW_ID')))\n",
    "        .drop('ROW_ID')\n",
    "        .groupBy(['ENC_ID', 'DATE', 'MRN'])\n",
    "        .pivot('PRIORITY')\n",
    "        .agg(sf.first('ICD_CODE'))\n",
    "    )\n",
    "    return rename_columns(sdf2, {i: f'ICD_CODE_{i}' for i in sdf2.columns[3:]})"
   ]
  },
  {
   "cell_type": "code",
   "execution_count": 131,
   "id": "7e3d0150",
   "metadata": {},
   "outputs": [
    {
     "name": "stderr",
     "output_type": "stream",
     "text": [
      "                                                                                \r"
     ]
    },
    {
     "name": "stdout",
     "output_type": "stream",
     "text": [
      "+----------+------+---------+--------+\n",
      "|      DATE|ENC_ID|      MRN|ICD_CODE|\n",
      "+----------+------+---------+--------+\n",
      "|2022-02-27|126308|C11111111| H25.813|\n",
      "|2021-07-08|133273|A44444333|M84.332A|\n",
      "|2022-02-27|126308|C11111111|S40.822D|\n",
      "|2020-07-22|116422|A22222222|S72.043G|\n",
      "|2020-11-13|102542|A12345678|V90.27XS|\n",
      "|2018-06-06|118129|B66666666|S52.551A|\n",
      "|2021-07-08|133273|A44444333|T53.5X3A|\n",
      "|2021-05-27|114503|C11111111|T83.021S|\n",
      "|2018-06-06|118129|B66666666|S53.31XS|\n",
      "|2020-07-22|116422|A22222222|T37.2X1A|\n",
      "|2020-05-23|130887|C11100000|O36.8233|\n",
      "|2021-07-21|114493|B87654321|W94.32XD|\n",
      "|2018-06-06|118129|B66666666|S61.219D|\n",
      "|2021-03-06|120022|A12345678|S12.01XD|\n",
      "|2018-07-14|124619|A12345678|S53.004A|\n",
      "|2022-02-27|126308|C11111111|  O08.89|\n",
      "|2021-07-08|133273|A44444333|S72.023Q|\n",
      "|2020-05-23|130887|C11100000|T46.7X4D|\n",
      "|2021-07-21|114493|B87654321| O36.891|\n",
      "|2022-02-27|126308|C11111111| M87.337|\n",
      "+----------+------+---------+--------+\n",
      "\n"
     ]
    },
    {
     "name": "stderr",
     "output_type": "stream",
     "text": [
      "                                                                                \r"
     ]
    },
    {
     "name": "stdout",
     "output_type": "stream",
     "text": [
      "+------+----------+---------+----------+----------+----------+----------+\n",
      "|ENC_ID|      DATE|      MRN|ICD_CODE_1|ICD_CODE_2|ICD_CODE_3|ICD_CODE_4|\n",
      "+------+----------+---------+----------+----------+----------+----------+\n",
      "|120022|2021-03-06|A12345678|  S12.01XD|      null|      null|      null|\n",
      "|116422|2020-07-22|A22222222|  S72.043G|  T37.2X1A|      null|      null|\n",
      "|114503|2021-05-27|C11111111|  T83.021S|      null|      null|      null|\n",
      "|133273|2021-07-08|A44444333|  M84.332A|  T53.5X3A|  S72.023Q|      null|\n",
      "|124619|2018-07-14|A12345678|  S53.004A|      null|      null|      null|\n",
      "|126308|2022-02-27|C11111111|   H25.813|  S40.822D|    O08.89|   M87.337|\n",
      "|114493|2021-07-21|B87654321|  W94.32XD|   O36.891|      null|      null|\n",
      "|118129|2018-06-06|B66666666|  S52.551A|  S53.31XS|  S61.219D|      null|\n",
      "|130887|2020-05-23|C11100000|  O36.8233|  T46.7X4D|      null|      null|\n",
      "|102542|2020-11-13|A12345678|  V90.27XS|      null|      null|      null|\n",
      "+------+----------+---------+----------+----------+----------+----------+\n",
      "\n"
     ]
    },
    {
     "name": "stderr",
     "output_type": "stream",
     "text": [
      "                                                                                \r"
     ]
    }
   ],
   "source": [
    "enc_sdf_transformed = transform_encounters(enc_sdf)\n",
    "\n",
    "if OUTPUT_MODE == OutputMode.verbose:\n",
    "    enc_sdf.show()\n",
    "    enc_sdf_transformed.show()"
   ]
  },
  {
   "cell_type": "code",
   "execution_count": 132,
   "id": "c2a85008",
   "metadata": {},
   "outputs": [
    {
     "name": "stdout",
     "output_type": "stream",
     "text": [
      "+------+--------+-----------------+-------------+-------------+\n",
      "|CLINIC|     MRN|       FIRST_NAME|    LAST_NAME|DATE_OF_BIRTH|\n",
      "+------+--------+-----------------+-------------+-------------+\n",
      "|     A|44444333|        Duowuliao|            A|   1970-04-04|\n",
      "|     C|11111111|            Sonic|The Hedgehog!|   1990-05-15|\n",
      "|     B|87654321|            Ralph|       Wiggum|   1950-11-13|\n",
      "|     A|12345678|             Bill|      Edwards|   1989-01-20|\n",
      "|     B|77777777|          Another|         Bene|   1955-03-03|\n",
      "|     A|55555555|             Some|  Beneficiary|   1951-01-01|\n",
      "|     C|11100000|Nizhenzaikanzhege|           Ma|   1990-05-05|\n",
      "+------+--------+-----------------+-------------+-------------+\n",
      "\n",
      "+------+--------+-----------------+-------------+-------------+---------+\n",
      "|CLINIC|     MRN|       FIRST_NAME|    LAST_NAME|DATE_OF_BIRTH| FULL_MRN|\n",
      "+------+--------+-----------------+-------------+-------------+---------+\n",
      "|     A|44444333|        Duowuliao|            A|   1970-04-04|A44444333|\n",
      "|     C|11111111|            Sonic|The Hedgehog!|   1990-05-15|C11111111|\n",
      "|     B|87654321|            Ralph|       Wiggum|   1950-11-13|B87654321|\n",
      "|     A|12345678|             Bill|      Edwards|   1989-01-20|A12345678|\n",
      "|     B|77777777|          Another|         Bene|   1955-03-03|B77777777|\n",
      "|     A|55555555|             Some|  Beneficiary|   1951-01-01|A55555555|\n",
      "|     C|11100000|Nizhenzaikanzhege|           Ma|   1990-05-05|C11100000|\n",
      "+------+--------+-----------------+-------------+-------------+---------+\n",
      "\n"
     ]
    }
   ],
   "source": [
    "demo_sdf_mrn = demo_sdf.withColumn(\"FULL_MRN\", sf.concat(\"CLINIC\", \"MRN\"))\n",
    "\n",
    "if OUTPUT_MODE == OutputMode.verbose:\n",
    "    demo_sdf.show()\n",
    "    demo_sdf_mrn.show()"
   ]
  },
  {
   "cell_type": "code",
   "execution_count": 133,
   "id": "48aa1e1a",
   "metadata": {},
   "outputs": [
    {
     "name": "stderr",
     "output_type": "stream",
     "text": [
      "                                                                                \r"
     ]
    },
    {
     "name": "stdout",
     "output_type": "stream",
     "text": [
      "+------+----------+---------+----------+----------+----------+----------+------+--------+----------+-------------+-------------+---------+------------------+----------+--------+\n",
      "|ENC_ID|      DATE|      MRN|ICD_CODE_1|ICD_CODE_2|ICD_CODE_3|ICD_CODE_4|CLINIC|     MRN|FIRST_NAME|    LAST_NAME|DATE_OF_BIRTH| FULL_MRN|               AGE|AGE_BUCKET|ICD_CODE|\n",
      "+------+----------+---------+----------+----------+----------+----------+------+--------+----------+-------------+-------------+---------+------------------+----------+--------+\n",
      "|120022|2021-03-06|A12345678|  S12.01XD|      null|      null|      null|     A|12345678|      Bill|      Edwards|   1989-01-20|A12345678| 32.14520547945205|         0|S12.01XD|\n",
      "|120022|2021-03-06|A12345678|  S12.01XD|      null|      null|      null|     A|12345678|      Bill|      Edwards|   1989-01-20|A12345678| 32.14520547945205|         0|    null|\n",
      "|120022|2021-03-06|A12345678|  S12.01XD|      null|      null|      null|     A|12345678|      Bill|      Edwards|   1989-01-20|A12345678| 32.14520547945205|         0|    null|\n",
      "|120022|2021-03-06|A12345678|  S12.01XD|      null|      null|      null|     A|12345678|      Bill|      Edwards|   1989-01-20|A12345678| 32.14520547945205|         0|    null|\n",
      "|114503|2021-05-27|C11111111|  T83.021S|      null|      null|      null|     C|11111111|     Sonic|The Hedgehog!|   1990-05-15|C11111111|31.054794520547944|         0|T83.021S|\n",
      "|114503|2021-05-27|C11111111|  T83.021S|      null|      null|      null|     C|11111111|     Sonic|The Hedgehog!|   1990-05-15|C11111111|31.054794520547944|         0|    null|\n",
      "|114503|2021-05-27|C11111111|  T83.021S|      null|      null|      null|     C|11111111|     Sonic|The Hedgehog!|   1990-05-15|C11111111|31.054794520547944|         0|    null|\n",
      "|114503|2021-05-27|C11111111|  T83.021S|      null|      null|      null|     C|11111111|     Sonic|The Hedgehog!|   1990-05-15|C11111111|31.054794520547944|         0|    null|\n",
      "|133273|2021-07-08|A44444333|  M84.332A|  T53.5X3A|  S72.023Q|      null|     A|44444333| Duowuliao|            A|   1970-04-04|A44444333|51.295890410958904|        50|M84.332A|\n",
      "|133273|2021-07-08|A44444333|  M84.332A|  T53.5X3A|  S72.023Q|      null|     A|44444333| Duowuliao|            A|   1970-04-04|A44444333|51.295890410958904|        50|T53.5X3A|\n",
      "|133273|2021-07-08|A44444333|  M84.332A|  T53.5X3A|  S72.023Q|      null|     A|44444333| Duowuliao|            A|   1970-04-04|A44444333|51.295890410958904|        50|S72.023Q|\n",
      "|133273|2021-07-08|A44444333|  M84.332A|  T53.5X3A|  S72.023Q|      null|     A|44444333| Duowuliao|            A|   1970-04-04|A44444333|51.295890410958904|        50|    null|\n",
      "|124619|2018-07-14|A12345678|  S53.004A|      null|      null|      null|     A|12345678|      Bill|      Edwards|   1989-01-20|A12345678|  29.4986301369863|         0|S53.004A|\n",
      "|124619|2018-07-14|A12345678|  S53.004A|      null|      null|      null|     A|12345678|      Bill|      Edwards|   1989-01-20|A12345678|  29.4986301369863|         0|    null|\n",
      "|124619|2018-07-14|A12345678|  S53.004A|      null|      null|      null|     A|12345678|      Bill|      Edwards|   1989-01-20|A12345678|  29.4986301369863|         0|    null|\n",
      "|124619|2018-07-14|A12345678|  S53.004A|      null|      null|      null|     A|12345678|      Bill|      Edwards|   1989-01-20|A12345678|  29.4986301369863|         0|    null|\n",
      "|126308|2022-02-27|C11111111|   H25.813|  S40.822D|    O08.89|   M87.337|     C|11111111|     Sonic|The Hedgehog!|   1990-05-15|C11111111| 31.81095890410959|         0| H25.813|\n",
      "|126308|2022-02-27|C11111111|   H25.813|  S40.822D|    O08.89|   M87.337|     C|11111111|     Sonic|The Hedgehog!|   1990-05-15|C11111111| 31.81095890410959|         0|S40.822D|\n",
      "|126308|2022-02-27|C11111111|   H25.813|  S40.822D|    O08.89|   M87.337|     C|11111111|     Sonic|The Hedgehog!|   1990-05-15|C11111111| 31.81095890410959|         0|  O08.89|\n",
      "|126308|2022-02-27|C11111111|   H25.813|  S40.822D|    O08.89|   M87.337|     C|11111111|     Sonic|The Hedgehog!|   1990-05-15|C11111111| 31.81095890410959|         0| M87.337|\n",
      "+------+----------+---------+----------+----------+----------+----------+------+--------+----------+-------------+-------------+---------+------------------+----------+--------+\n",
      "only showing top 20 rows\n",
      "\n"
     ]
    }
   ],
   "source": [
    "enc_sdf_added_cols = (\n",
    "    enc_sdf_transformed\n",
    "    .join(demo_sdf_mrn, enc_sdf_transformed.MRN == demo_sdf_mrn.FULL_MRN)\n",
    "    .withColumn('AGE', sf.datediff('DATE', 'DATE_OF_BIRTH') / 365)\n",
    "    .withColumn('AGE_BUCKET', sf.udf(age_bucket)(sf.col('AGE')))\n",
    "    .withColumn('ICD_CODE', sf.expr(\"stack(4, ICD_CODE_1, ICD_CODE_2, ICD_CODE_3, ICD_CODE_4)\"))\n",
    ")\n",
    "\n",
    "if OUTPUT_MODE == OutputMode.verbose:\n",
    "    enc_sdf_added_cols.show()\n",
    "\n",
    "results = (\n",
    "    enc_sdf_added_cols\n",
    "    .join(code_groups_sdf, enc_sdf_added_cols.ICD_CODE==code_groups_sdf.ICD_CODE)\n",
    "    .groupBy('AGE_BUCKET', 'GROUP').count()\n",
    "    .groupBy('AGE_BUCKET', 'count').agg(sf.collect_set('GROUP'))\n",
    "    .withColumnRenamed('collect_set(GROUP)', 'GROUPS')\n",
    "    .withColumn(\n",
    "        '_row',\n",
    "        sf.row_number().over(Window().partitionBy(['AGE_BUCKET']).orderBy(sf.desc('count'))))\n",
    "    .filter(sf.col('_row') == 1)\n",
    "    .drop('_row')\n",
    "    .filter(sf.col('AGE_BUCKET') != 0)\n",
    "    .orderBy('AGE_BUCKET')\n",
    ")"
   ]
  },
  {
   "cell_type": "code",
   "execution_count": 134,
   "id": "e762006b",
   "metadata": {},
   "outputs": [
    {
     "name": "stderr",
     "output_type": "stream",
     "text": [
      "[Stage 237:=================================================>   (187 + 1) / 200]\r"
     ]
    },
    {
     "name": "stdout",
     "output_type": "stream",
     "text": [
      "+----------+-----+---------+\n",
      "|AGE_BUCKET|count|   GROUPS|\n",
      "+----------+-----+---------+\n",
      "|        50|    1|[1, 2, 7]|\n",
      "|        70|    1|   [2, 9]|\n",
      "+----------+-----+---------+\n",
      "\n"
     ]
    },
    {
     "name": "stderr",
     "output_type": "stream",
     "text": [
      "                                                                                \r"
     ]
    }
   ],
   "source": [
    "results.show()"
   ]
  },
  {
   "cell_type": "code",
   "execution_count": null,
   "id": "2f479aca",
   "metadata": {},
   "outputs": [],
   "source": []
  }
 ],
 "metadata": {
  "kernelspec": {
   "display_name": "Python 3 (ipykernel)",
   "language": "python",
   "name": "python3"
  },
  "language_info": {
   "codemirror_mode": {
    "name": "ipython",
    "version": 3
   },
   "file_extension": ".py",
   "mimetype": "text/x-python",
   "name": "python",
   "nbconvert_exporter": "python",
   "pygments_lexer": "ipython3",
   "version": "3.8.13"
  }
 },
 "nbformat": 4,
 "nbformat_minor": 5
}
