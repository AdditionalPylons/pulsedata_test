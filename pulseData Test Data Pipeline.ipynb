{
 "cells": [
  {
   "cell_type": "code",
   "execution_count": 788,
   "id": "d84bacf7",
   "metadata": {},
   "outputs": [],
   "source": [
    "import findspark\n",
    "findspark.init()"
   ]
  },
  {
   "cell_type": "code",
   "execution_count": 789,
   "id": "22a98ffe",
   "metadata": {},
   "outputs": [],
   "source": [
    "import pathlib\n",
    "\n",
    "from pyspark.sql import (\n",
    "                        functions as sf,\n",
    "                        SparkSession,\n",
    "                        types,\n",
    "                        Window\n",
    ")\n"
   ]
  },
  {
   "cell_type": "code",
   "execution_count": 790,
   "id": "9ca2fe83",
   "metadata": {},
   "outputs": [],
   "source": [
    "spark = SparkSession.builder.master(\"local\").getOrCreate()"
   ]
  },
  {
   "cell_type": "code",
   "execution_count": 791,
   "id": "12f97337",
   "metadata": {},
   "outputs": [],
   "source": [
    "CODE_GROUPS_SCHEMA = types.StructType([\n",
    "    types.StructField(\"ICD_CODE\",types.StringType(),nullable=True),\n",
    "    types.StructField(\"GROUP\",types.StringType(),nullable=True),\n",
    "])\n",
    "\n",
    "DEMOGRAPHICS_SCHEMA = types.StructType([\n",
    "    types.StructField(\"CLINIC\",types.StringType(),nullable=True),\n",
    "    types.StructField(\"MRN\",types.StringType(),nullable=True),\n",
    "    types.StructField(\"FIRST_NAME\",types.StringType(),nullable=True),\n",
    "    types.StructField(\"LAST_NAME\",types.StringType(),nullable=True),\n",
    "    types.StructField(\"DATE_OF_BIRTH\",types.DateType(),nullable=True),\n",
    "])\n",
    "\n",
    "ENCOUNTERS_SCHEMA = types.StructType([\n",
    "    types.StructField(\"DATE\",types.DateType(),nullable=True),\n",
    "    types.StructField(\"ENC_ID\",types.StringType(),nullable=True),\n",
    "    types.StructField(\"MRN\",types.StringType(),nullable=True),\n",
    "    types.StructField(\"ICD_CODE\",types.StringType(),nullable=True),\n",
    "])"
   ]
  },
  {
   "cell_type": "code",
   "execution_count": 792,
   "id": "697cdcdd",
   "metadata": {},
   "outputs": [],
   "source": [
    "def csv_to_parquet(path):\n",
    "    # Spark requires path as a str\n",
    "    path = str(path)\n",
    "\n",
    "    filename = path.split(\"/\")[-1].split(\".\")[0]\n",
    "\n",
    "    if filename.casefold() == \"code_groups\":\n",
    "        schema = CODE_GROUPS_SCHEMA\n",
    "    elif filename.casefold() == \"demographics\":\n",
    "        schema = DEMOGRAPHICS_SCHEMA\n",
    "    elif filename.casefold() == \"encounters\":\n",
    "        schema = ENCOUNTERS_SCHEMA\n",
    "\n",
    "    df = (\n",
    "        spark.read\n",
    "        .option(\"delimiter\", \"|\")\n",
    "        .option(\"header\", \"true\")\n",
    "        .schema(schema)\n",
    "        .csv(path)\n",
    "    )\n",
    "            \n",
    "    parquet_path = path.split(\".\")[0]+\".parquet\"\n",
    "\n",
    "    df.write.mode(\"overwrite\").parquet(parquet_path)"
   ]
  },
  {
   "cell_type": "code",
   "execution_count": 793,
   "id": "81c3f556",
   "metadata": {},
   "outputs": [],
   "source": [
    "def read_csv(path):\n",
    "    path = str(path)\n",
    "\n",
    "    filename = path.split(\"/\")[-1].split(\".\")[0]\n",
    "\n",
    "    if filename.casefold() == \"code_groups\":\n",
    "        schema = CODE_GROUPS_SCHEMA\n",
    "    elif filename.casefold() == \"demographics\":\n",
    "        schema = DEMOGRAPHICS_SCHEMA\n",
    "    elif filename.casefold() == \"encounters\":\n",
    "        schema = ENCOUNTERS_SCHEMA\n",
    "\n",
    "    df = (\n",
    "        spark.read\n",
    "        .option(\"delimiter\", \"|\")\n",
    "        .option(\"header\", \"true\")\n",
    "        .schema(schema)\n",
    "        .csv(path)\n",
    "    )\n",
    "\n",
    "    return df\n"
   ]
  },
  {
   "cell_type": "code",
   "execution_count": 794,
   "id": "698a031c",
   "metadata": {},
   "outputs": [],
   "source": [
    "\n",
    "# This can be rewritten to use Spark-native functions.\n",
    "# This removes a dependency we don't use otherwise\n",
    "def read_parquet(path):\n",
    "    path = str(path)\n",
    "\n",
    "    df = spark.read.parquet(path)\n",
    "    \n",
    "    return df"
   ]
  },
  {
   "cell_type": "code",
   "execution_count": 795,
   "id": "e2ade5e4",
   "metadata": {},
   "outputs": [],
   "source": [
    "def rename_columns(sdf, name_map):\n",
    "    for from_col, to_col in name_map.items():\n",
    "        sdf = sdf.withColumnRenamed(from_col, to_col)\n",
    "    return sdf"
   ]
  },
  {
   "cell_type": "code",
   "execution_count": 796,
   "id": "50852b5e",
   "metadata": {},
   "outputs": [],
   "source": [
    "def age_bucket(age):\n",
    "    if age > 100:\n",
    "        return 100\n",
    "    elif age > 90:\n",
    "        return 90\n",
    "    elif age > 80:\n",
    "        return 80\n",
    "    elif age > 70:\n",
    "        return 70\n",
    "    elif age > 60:\n",
    "        return 60\n",
    "    elif age > 50:\n",
    "        return 50\n",
    "    elif age > 40:\n",
    "        return 40\n",
    "    else:\n",
    "        # ignore all patients under 40\n",
    "        return 0"
   ]
  },
  {
   "cell_type": "code",
   "execution_count": 797,
   "id": "339af312",
   "metadata": {},
   "outputs": [],
   "source": [
    "# change this to data_2, data_3 or data_4 to use a different dataset\n",
    "data_folder = pathlib.Path('data_test')\n",
    "\n",
    "code_groups = pathlib.Path('code_groups.csv')\n",
    "demographics = data_folder.joinpath('demographics.csv')\n",
    "encounters = data_folder.joinpath('encounters.csv')\n",
    "\n",
    "for csv in [code_groups, demographics, encounters]:\n",
    "    csv_to_parquet(csv)\n",
    "\n",
    "code_groups = pathlib.Path('code_groups.parquet')\n",
    "demographics = data_folder.joinpath('demographics.parquet')\n",
    "encounters = data_folder.joinpath('encounters.parquet')"
   ]
  },
  {
   "cell_type": "code",
   "execution_count": 798,
   "id": "4b5d882a",
   "metadata": {},
   "outputs": [],
   "source": [
    "code_groups_sdf = read_parquet(code_groups)\n",
    "demo_sdf = read_parquet(demographics)\n",
    "enc_sdf = read_parquet(encounters)"
   ]
  },
  {
   "cell_type": "code",
   "execution_count": 799,
   "id": "1fe1b577",
   "metadata": {},
   "outputs": [
    {
     "name": "stdout",
     "output_type": "stream",
     "text": [
      "-----CODE GROUPS-----\n"
     ]
    },
    {
     "name": "stderr",
     "output_type": "stream",
     "text": [
      "                                                                                \r"
     ]
    },
    {
     "name": "stdout",
     "output_type": "stream",
     "text": [
      "+---------------+\n",
      "|Duplicate Count|\n",
      "+---------------+\n",
      "|              0|\n",
      "+---------------+\n",
      "\n",
      "Null Counts\n",
      "+--------+-----+\n",
      "|ICD_CODE|GROUP|\n",
      "+--------+-----+\n",
      "|       0|    0|\n",
      "+--------+-----+\n",
      "\n",
      "+-------+--------+------------------+\n",
      "|summary|ICD_CODE|             GROUP|\n",
      "+-------+--------+------------------+\n",
      "|  count|    4995|              4995|\n",
      "|   mean|    null| 5.531131131131131|\n",
      "| stddev|    null|2.8903991264796347|\n",
      "|    min|   A07.0|                 1|\n",
      "|    max| Z98.818|                 9|\n",
      "+-------+--------+------------------+\n",
      "\n",
      "-----DEMO-----\n"
     ]
    },
    {
     "name": "stderr",
     "output_type": "stream",
     "text": [
      "                                                                                \r"
     ]
    },
    {
     "name": "stdout",
     "output_type": "stream",
     "text": [
      "+---------------+\n",
      "|Duplicate Count|\n",
      "+---------------+\n",
      "|              0|\n",
      "+---------------+\n",
      "\n",
      "Null Counts\n",
      "+------+---+----------+---------+-------------+\n",
      "|CLINIC|MRN|FIRST_NAME|LAST_NAME|DATE_OF_BIRTH|\n",
      "+------+---+----------+---------+-------------+\n",
      "|     0|  0|         0|        0|            0|\n",
      "+------+---+----------+---------+-------------+\n",
      "\n",
      "+-------+------+--------------------+----------+---------+\n",
      "|summary|CLINIC|                 MRN|FIRST_NAME|LAST_NAME|\n",
      "+-------+------+--------------------+----------+---------+\n",
      "|  count| 10000|               10000|     10000|    10000|\n",
      "|   mean|  null|     5.07491028763E7|      null|     null|\n",
      "| stddev|  null|2.8727825630081754E7|      null|     null|\n",
      "|    min|     A|            01015674|     Aaron|   Abbott|\n",
      "|    max|     C|            99998883|       Zoe|�the Kid�|\n",
      "+-------+------+--------------------+----------+---------+\n",
      "\n",
      "-----ENC-----\n"
     ]
    },
    {
     "name": "stderr",
     "output_type": "stream",
     "text": [
      "                                                                                \r"
     ]
    },
    {
     "name": "stdout",
     "output_type": "stream",
     "text": [
      "+---------------+\n",
      "|Duplicate Count|\n",
      "+---------------+\n",
      "|              0|\n",
      "+---------------+\n",
      "\n",
      "Null Counts\n",
      "+----+------+---+--------+\n",
      "|DATE|ENC_ID|MRN|ICD_CODE|\n",
      "+----+------+---+--------+\n",
      "|   0|     0|  0|       0|\n",
      "+----+------+---+--------+\n",
      "\n"
     ]
    },
    {
     "name": "stderr",
     "output_type": "stream",
     "text": [
      "                                                                                \r"
     ]
    },
    {
     "name": "stdout",
     "output_type": "stream",
     "text": [
      "+-------+------------------+---------+--------+\n",
      "|summary|            ENC_ID|      MRN|ICD_CODE|\n",
      "+-------+------------------+---------+--------+\n",
      "|  count|            131447|   131447|  131447|\n",
      "|   mean|4.98692226390104E7|     null|    null|\n",
      "| stddev|2.87755318476725E7|     null|    null|\n",
      "|    min|          10000905|A01126333|   A07.0|\n",
      "|    max|          99999335|C99975199| Z98.818|\n",
      "+-------+------------------+---------+--------+\n",
      "\n"
     ]
    }
   ],
   "source": [
    "# Data quality checks\n",
    "\n",
    "def check_dupes(df):\n",
    "    return (\n",
    "        df.groupBy(df.columns)\n",
    "        .count()\n",
    "        .where(sf.col(\"count\") > 1)\n",
    "        .select(sf.coalesce(sf.sum(\"count\"), sf.lit(0)))\n",
    "        .withColumnRenamed(\"coalesce(sum(count), 0)\", f\"Duplicate Count\")\n",
    "        .show()\n",
    "    )\n",
    "\n",
    "def check_nulls(df):\n",
    "    print(\"Null Counts\")\n",
    "    return df.select([sf.count(sf.when(sf.col(c).isNull(), c)).alias(c) for c in df.columns]\n",
    "   ).show()\n",
    "\n",
    "def run_single_df_checks(df):\n",
    "    check_dupes(df)\n",
    "    check_nulls(df)\n",
    "    df.describe().show()\n",
    "\n",
    "def run_all_checks():\n",
    "    print(\"-----CODE GROUPS-----\")\n",
    "    run_single_df_checks(code_groups_sdf)\n",
    "    print(\"-----DEMO-----\")\n",
    "    run_single_df_checks(demo_sdf)\n",
    "    print(\"-----ENC-----\")\n",
    "    run_single_df_checks(enc_sdf)\n",
    "\n",
    "run_all_checks()"
   ]
  },
  {
   "cell_type": "code",
   "execution_count": 800,
   "id": "597f8223",
   "metadata": {},
   "outputs": [],
   "source": [
    "def clean_data(df, type):\n",
    "    # Pulled from https://www.johndcook.com/blog/2019/05/05/regex_icd_codes/\n",
    "    N = \"\\d{3}\\.?\\d{0,2}\"\n",
    "    E = \"E\\d{3}\\.?\\d?\"\n",
    "    V = \"V\\d{2}\\.?\\d{0,2}\"\n",
    "    icd9_regex = \"|\".join([N, E, V])\n",
    "    icd10_regex = \"[A-TV-Z][0-9][0-9AB]\\.?[0-9A-TV-Z]{0,4}\"\n",
    "\n",
    "    # Allows weird dates like 0000-99-99 but good enough for our purposes\n",
    "    date_regex = \"[0-9]{4}-[0-9]{2}-[0-9]{2}\"\n",
    "    #name_regex = r\"[A-Za-z]+\"\n",
    "\n",
    "    if type == \"code_groups\":\n",
    "        df = (df.where(\n",
    "            (sf.col(\"ICD_CODE\").isNotNull())\n",
    "        &   (sf.col(\"GROUP\").isNotNull())\n",
    "        &   (sf.col(\"ICD_CODE\").rlike(icd9_regex) | sf.col(\"ICD_CODE\").rlike(icd10_regex))\n",
    "        ))\n",
    "    elif type == \"demographics\":\n",
    "        df = (df.where(\n",
    "            (sf.col(\"DATE_OF_BIRTH\").isNotNull())\n",
    "        &   (sf.col(\"MRN\").isNotNull())\n",
    "        &   (sf.col(\"DATE_OF_BIRTH\").rlike(date_regex))\n",
    "        &   (sf.col(\"DATE_OF_BIRTH\") > sf.date_sub(sf.current_date(), (120 * 365)))\n",
    "        #&  (sf.col(\"FIRST_NAME\").rlike(name_regex))\n",
    "        #&  (sf.col(\"LAST_NAME\").rlike(name_regex))\n",
    "        ))\n",
    "    elif type == \"encounters\":\n",
    "        df = (df.where(\n",
    "            (sf.col(\"DATE\").isNotNull())\n",
    "        &   (sf.col(\"MRN\").isNotNull())\n",
    "        &   (sf.col(\"ICD_CODE\").isNotNull())\n",
    "        &   (sf.col(\"DATE\").rlike(date_regex))\n",
    "        &   (sf.col(\"DATE\") > sf.date_sub(sf.current_date(), (15 * 365)))\n",
    "        &   (sf.col(\"ICD_CODE\").rlike(icd9_regex) | sf.col(\"ICD_CODE\").rlike(icd10_regex))\n",
    "        ))\n",
    "\n",
    "    df = df.dropDuplicates()\n",
    "\n",
    "    return df\n",
    "\n",
    "code_groups_sdf = clean_data(code_groups_sdf, \"code_groups\")\n",
    "demo_sdf = clean_data(demo_sdf, \"demographics\")\n",
    "enc_sdf = clean_data(enc_sdf, \"encounters\")\n"
   ]
  },
  {
   "cell_type": "code",
   "execution_count": 801,
   "id": "2f0572e6",
   "metadata": {},
   "outputs": [
    {
     "name": "stdout",
     "output_type": "stream",
     "text": [
      "-----CODE GROUPS-----\n"
     ]
    },
    {
     "name": "stderr",
     "output_type": "stream",
     "text": [
      "                                                                                \r"
     ]
    },
    {
     "name": "stdout",
     "output_type": "stream",
     "text": [
      "+---------------+\n",
      "|Duplicate Count|\n",
      "+---------------+\n",
      "|              0|\n",
      "+---------------+\n",
      "\n",
      "Null Counts\n",
      "+--------+-----+\n",
      "|ICD_CODE|GROUP|\n",
      "+--------+-----+\n",
      "|       0|    0|\n",
      "+--------+-----+\n",
      "\n"
     ]
    },
    {
     "name": "stderr",
     "output_type": "stream",
     "text": [
      "                                                                                \r"
     ]
    },
    {
     "name": "stdout",
     "output_type": "stream",
     "text": [
      "+-------+--------+------------------+\n",
      "|summary|ICD_CODE|             GROUP|\n",
      "+-------+--------+------------------+\n",
      "|  count|    4995|              4995|\n",
      "|   mean|    null| 5.531131131131131|\n",
      "| stddev|    null|2.8903991264796374|\n",
      "|    min|   A07.0|                 1|\n",
      "|    max| Z98.818|                 9|\n",
      "+-------+--------+------------------+\n",
      "\n",
      "-----DEMO-----\n"
     ]
    },
    {
     "name": "stderr",
     "output_type": "stream",
     "text": [
      "                                                                                \r"
     ]
    },
    {
     "name": "stdout",
     "output_type": "stream",
     "text": [
      "+---------------+\n",
      "|Duplicate Count|\n",
      "+---------------+\n",
      "|              0|\n",
      "+---------------+\n",
      "\n",
      "Null Counts\n"
     ]
    },
    {
     "name": "stderr",
     "output_type": "stream",
     "text": [
      "                                                                                \r"
     ]
    },
    {
     "name": "stdout",
     "output_type": "stream",
     "text": [
      "+------+---+----------+---------+-------------+\n",
      "|CLINIC|MRN|FIRST_NAME|LAST_NAME|DATE_OF_BIRTH|\n",
      "+------+---+----------+---------+-------------+\n",
      "|     0|  0|         0|        0|            0|\n",
      "+------+---+----------+---------+-------------+\n",
      "\n"
     ]
    },
    {
     "name": "stderr",
     "output_type": "stream",
     "text": [
      "                                                                                \r"
     ]
    },
    {
     "name": "stdout",
     "output_type": "stream",
     "text": [
      "+-------+------+--------------------+----------+---------+\n",
      "|summary|CLINIC|                 MRN|FIRST_NAME|LAST_NAME|\n",
      "+-------+------+--------------------+----------+---------+\n",
      "|  count|  9999|                9999|      9999|     9999|\n",
      "|   mean|  null| 5.075196392889289E7|      null|     null|\n",
      "| stddev|  null|2.8727837480940565E7|      null|     null|\n",
      "|    min|     A|            01015674|     Aaron|   Abbott|\n",
      "|    max|     C|            99998883|       Zoe|   Zuniga|\n",
      "+-------+------+--------------------+----------+---------+\n",
      "\n",
      "-----ENC-----\n"
     ]
    },
    {
     "name": "stderr",
     "output_type": "stream",
     "text": [
      "                                                                                \r"
     ]
    },
    {
     "name": "stdout",
     "output_type": "stream",
     "text": [
      "+---------------+\n",
      "|Duplicate Count|\n",
      "+---------------+\n",
      "|              0|\n",
      "+---------------+\n",
      "\n",
      "Null Counts\n"
     ]
    },
    {
     "name": "stderr",
     "output_type": "stream",
     "text": [
      "                                                                                \r"
     ]
    },
    {
     "name": "stdout",
     "output_type": "stream",
     "text": [
      "+----+------+---+--------+\n",
      "|DATE|ENC_ID|MRN|ICD_CODE|\n",
      "+----+------+---+--------+\n",
      "|   0|     0|  0|       0|\n",
      "+----+------+---+--------+\n",
      "\n"
     ]
    },
    {
     "name": "stderr",
     "output_type": "stream",
     "text": [
      "[Stage 1937:=================================================>  (190 + 1) / 200]\r"
     ]
    },
    {
     "name": "stdout",
     "output_type": "stream",
     "text": [
      "+-------+--------------------+---------+--------+\n",
      "|summary|              ENC_ID|      MRN|ICD_CODE|\n",
      "+-------+--------------------+---------+--------+\n",
      "|  count|              131445|   131445|  131445|\n",
      "|   mean| 4.986884302184183E7|     null|    null|\n",
      "| stddev|2.8775586191770155E7|     null|    null|\n",
      "|    min|            10000905|A01126333|   A07.0|\n",
      "|    max|            99999335|C99975199| Z98.818|\n",
      "+-------+--------------------+---------+--------+\n",
      "\n"
     ]
    },
    {
     "name": "stderr",
     "output_type": "stream",
     "text": [
      "                                                                                \r"
     ]
    }
   ],
   "source": [
    "run_all_checks()"
   ]
  },
  {
   "cell_type": "code",
   "execution_count": 802,
   "id": "153070a1",
   "metadata": {},
   "outputs": [],
   "source": [
    "def transform_encounters(enc_sdf):\n",
    "    sdf2 = (\n",
    "        enc_sdf\n",
    "        .withColumn('ROW_ID', sf.monotonically_increasing_id())\n",
    "        .withColumn('PRIORITY', sf.row_number().over(Window.partitionBy('ENC_ID').orderBy('ROW_ID')))\n",
    "        .drop('ROW_ID')\n",
    "        .groupBy(['ENC_ID', 'DATE', 'MRN'])\n",
    "        .pivot('PRIORITY')\n",
    "        .agg(sf.first('ICD_CODE'))\n",
    "    )\n",
    "    return rename_columns(sdf2, {i: f'ICD_CODE_{i}' for i in sdf2.columns[3:]})"
   ]
  },
  {
   "cell_type": "code",
   "execution_count": 803,
   "id": "7e3d0150",
   "metadata": {},
   "outputs": [
    {
     "name": "stderr",
     "output_type": "stream",
     "text": [
      "                                                                                \r"
     ]
    }
   ],
   "source": [
    "enc_sdf = transform_encounters(enc_sdf)"
   ]
  },
  {
   "cell_type": "code",
   "execution_count": 804,
   "id": "4d6e284d",
   "metadata": {},
   "outputs": [
    {
     "name": "stderr",
     "output_type": "stream",
     "text": [
      "[Stage 1945:==================================================> (196 + 1) / 200]\r"
     ]
    },
    {
     "name": "stdout",
     "output_type": "stream",
     "text": [
      "+--------+----------+---------+----------+----------+----------+----------+\n",
      "|  ENC_ID|      DATE|      MRN|ICD_CODE_1|ICD_CODE_2|ICD_CODE_3|ICD_CODE_4|\n",
      "+--------+----------+---------+----------+----------+----------+----------+\n",
      "|10106857|2020-11-26|A22804925|  S81.831S|     Z33.1|      null|      null|\n",
      "| 1033030|2020-09-14|B24619794|       N06|  S52.344J|     F11.9|  S90.00XA|\n",
      "| 1111477|2017-07-08|B85149257|   S52.514|  S81.049D|  S72.466Q|      null|\n",
      "|11146680|2021-01-29|A02882218|     B00.1|  S62.637A|   T48.995|     S16.8|\n",
      "|11644186|2020-07-16|B95805179|  S02.11FK|  S68.619S|       K70|  S42.353B|\n",
      "|11798180|2019-10-09|A66060669|  S32.16XA|  S90.464S|  S20.309D|      null|\n",
      "|12498017|2020-07-31|C51507666|  S58.029D|      null|      null|      null|\n",
      "| 1317551|2020-01-01|C36980007|  S92.052S|      null|      null|      null|\n",
      "|13508582|2019-05-16|B49278302|  S45.191D|  S74.01XD|      null|      null|\n",
      "|13613552|2019-12-11|A40618071|   I83.002|    C40.20|  S83.105S|      null|\n",
      "|14048899|2017-11-27|A73805413|  S06.2X4A|      null|      null|      null|\n",
      "| 1412165|2017-02-21|B55844474|   D72.818|     Q30.9|    P28.19|      null|\n",
      "| 1483024|2020-11-27|C53120955|  S42.449G|    M97.21|  S35.11XA|    S84.22|\n",
      "|14858472|2019-09-12|C59282609|   M21.059|       C88|      null|      null|\n",
      "|14968987|2020-07-01|C60437719|   S48.911|   H59.811|   T45.694|     Z36.2|\n",
      "|15142330|2019-11-22|C10581524|  S72.91XC|  T22.621S|   T50.Z14|      null|\n",
      "|15350886|2017-03-02|B88464265|   Z01.818|       A32|      null|      null|\n",
      "|16014941|2017-11-12|C28032509|  S80.869D|   T44.1X3|  S82.123P|   S22.011|\n",
      "|16076460|2021-11-20|B47303134|    Y36.13|      null|      null|      null|\n",
      "|16154692|2022-03-29|C89322338|  T50.A25S|  S52.321J|    M61.43|  V43.62XS|\n",
      "+--------+----------+---------+----------+----------+----------+----------+\n",
      "only showing top 20 rows\n",
      "\n"
     ]
    },
    {
     "name": "stderr",
     "output_type": "stream",
     "text": [
      "                                                                                \r"
     ]
    }
   ],
   "source": [
    "enc_sdf.show()"
   ]
  },
  {
   "cell_type": "code",
   "execution_count": 805,
   "id": "c2a85008",
   "metadata": {},
   "outputs": [],
   "source": [
    "demo_sdf = demo_sdf.withColumn(\"FULL_MRN\", sf.concat(\"CLINIC\", \"MRN\"))"
   ]
  },
  {
   "cell_type": "code",
   "execution_count": 806,
   "id": "48aa1e1a",
   "metadata": {},
   "outputs": [],
   "source": [
    "enc_sdf_added_cols = (\n",
    "    enc_sdf\n",
    "    .join(demo_sdf, enc_sdf.MRN == demo_sdf.FULL_MRN)\n",
    "    .withColumn('AGE', sf.datediff('DATE', 'DATE_OF_BIRTH') / 365)\n",
    "    .withColumn('AGE_BUCKET', sf.udf(age_bucket)(sf.col('AGE')))\n",
    "    .withColumn('ICD_CODE', sf.expr(\"stack(4, ICD_CODE_1, ICD_CODE_2, ICD_CODE_3, ICD_CODE_4)\"))\n",
    ")\n",
    "results = (\n",
    "    enc_sdf_added_cols\n",
    "    .join(code_groups_sdf, enc_sdf_added_cols.ICD_CODE==code_groups_sdf.ICD_CODE)\n",
    "    .groupBy('AGE_BUCKET', 'GROUP').count()\n",
    "    .groupBy('AGE_BUCKET', 'count').agg(sf.collect_set('GROUP'))\n",
    "    .withColumnRenamed('collect_set(GROUP)', 'GROUPS')\n",
    "    .withColumn(\n",
    "        '_row',\n",
    "        sf.row_number().over(Window().partitionBy(['AGE_BUCKET']).orderBy(sf.desc('count'))))\n",
    "    .filter(sf.col('_row') == 1)\n",
    "    .drop('_row')\n",
    "    .filter(sf.col('AGE_BUCKET') != 0)\n",
    "    .orderBy('AGE_BUCKET')\n",
    ")"
   ]
  },
  {
   "cell_type": "code",
   "execution_count": 807,
   "id": "e762006b",
   "metadata": {},
   "outputs": [
    {
     "name": "stderr",
     "output_type": "stream",
     "text": [
      "[Stage 1956:====================================>               (140 + 1) / 200]\r"
     ]
    },
    {
     "name": "stdout",
     "output_type": "stream",
     "text": [
      "+----------+-----+------+\n",
      "|AGE_BUCKET|count|GROUPS|\n",
      "+----------+-----+------+\n",
      "|       100| 1448|  [10]|\n",
      "|        40| 1087|  [10]|\n",
      "|        50| 1222|  [10]|\n",
      "|        60| 1139|  [10]|\n",
      "|        70| 1066|  [10]|\n",
      "|        80| 1038|  [10]|\n",
      "|        90| 1167|  [10]|\n",
      "+----------+-----+------+\n",
      "\n"
     ]
    },
    {
     "name": "stderr",
     "output_type": "stream",
     "text": [
      "                                                                                \r"
     ]
    }
   ],
   "source": [
    "results.show()"
   ]
  },
  {
   "cell_type": "code",
   "execution_count": null,
   "id": "2f479aca",
   "metadata": {},
   "outputs": [],
   "source": []
  }
 ],
 "metadata": {
  "kernelspec": {
   "display_name": "Python 3 (ipykernel)",
   "language": "python",
   "name": "python3"
  },
  "language_info": {
   "codemirror_mode": {
    "name": "ipython",
    "version": 3
   },
   "file_extension": ".py",
   "mimetype": "text/x-python",
   "name": "python",
   "nbconvert_exporter": "python",
   "pygments_lexer": "ipython3",
   "version": "3.8.13"
  }
 },
 "nbformat": 4,
 "nbformat_minor": 5
}
