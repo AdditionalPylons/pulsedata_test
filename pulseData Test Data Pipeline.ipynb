{
 "cells": [
  {
   "cell_type": "code",
   "execution_count": 495,
   "id": "d84bacf7",
   "metadata": {},
   "outputs": [],
   "source": [
    "import findspark\n",
    "findspark.init()"
   ]
  },
  {
   "cell_type": "code",
   "execution_count": 496,
   "id": "22a98ffe",
   "metadata": {},
   "outputs": [],
   "source": [
    "import pathlib\n",
    "\n",
    "# Can remove this import since it's no longer used\n",
    "# import pandas as pd\n",
    "import pyspark\n",
    "\n",
    "from pyspark.sql import functions as sf\n",
    "from pyspark.sql import Window\n",
    "\n",
    "import pyarrow.parquet as pq"
   ]
  },
  {
   "cell_type": "code",
   "execution_count": 497,
   "id": "9ca2fe83",
   "metadata": {},
   "outputs": [],
   "source": [
    "spark = pyspark.sql.SparkSession.builder.master(\"local\").getOrCreate()"
   ]
  },
  {
   "cell_type": "code",
   "execution_count": 498,
   "id": "698a031c",
   "metadata": {},
   "outputs": [],
   "source": [
    "\n",
    "# This can be rewritten to use Spark-native functions.\n",
    "# This removes a dependency we don't use otherwise\n",
    "# and avoids loading the whole df into memory\n",
    "def read_csv(path, date_cols=None):\n",
    "    # Spark requires path as a str\n",
    "    path = str(path)\n",
    "\n",
    "    df = (\n",
    "        spark.read\n",
    "        .option(\"delimiter\", \"|\")\n",
    "        .option(\"header\", \"true\")\n",
    "        .csv(path)\n",
    "    )\n",
    "\n",
    "    if date_cols:\n",
    "        for date_col in date_cols:\n",
    "            df.withColumn(date_col, sf.col(date_col).cast(\"Date\"))\n",
    "            \n",
    "    parquet_path = str(path.split(\".\")[0]+\".parquet\")\n",
    "\n",
    "    df.write.mode(\"overwrite\").parquet(parquet_path)\n",
    "\n",
    "    df = spark.read.parquet(parquet_path)\n",
    "    \n",
    "    return df"
   ]
  },
  {
   "cell_type": "code",
   "execution_count": 499,
   "id": "e2ade5e4",
   "metadata": {},
   "outputs": [],
   "source": [
    "def rename_columns(sdf, name_map):\n",
    "    for from_col, to_col in name_map.items():\n",
    "        sdf = sdf.withColumnRenamed(from_col, to_col)\n",
    "    return sdf"
   ]
  },
  {
   "cell_type": "code",
   "execution_count": 500,
   "id": "153070a1",
   "metadata": {},
   "outputs": [
    {
     "name": "stderr",
     "output_type": "stream",
     "text": [
      "[Stage 443:===============>                                      (59 + 1) / 200]\r"
     ]
    }
   ],
   "source": [
    "def transform_encounters(enc_sdf):\n",
    "    sdf2 = (\n",
    "        enc_sdf\n",
    "        .withColumn('ROW_ID', sf.monotonically_increasing_id())\n",
    "        .withColumn('PRIORITY', sf.row_number().over(Window.partitionBy('ENC_ID').orderBy('ROW_ID')))\n",
    "        .drop('ROW_ID')\n",
    "        .groupBy(['ENC_ID', 'DATE', 'MRN'])\n",
    "        .pivot('PRIORITY')\n",
    "        .agg(sf.first('ICD_CODE'))\n",
    "    )\n",
    "    return rename_columns(sdf2, {i: f'ICD_CODE_{i}' for i in sdf2.columns[3:]})"
   ]
  },
  {
   "cell_type": "code",
   "execution_count": 501,
   "id": "50852b5e",
   "metadata": {},
   "outputs": [],
   "source": [
    "def age_bucket(age):\n",
    "    if age > 100:\n",
    "        return 100\n",
    "    elif age > 90:\n",
    "        return 90\n",
    "    elif age > 80:\n",
    "        return 90\n",
    "    elif age > 70:\n",
    "        return 70\n",
    "    elif age > 60:\n",
    "        return 60\n",
    "    elif age > 50:\n",
    "        return 50\n",
    "    elif age > 40:\n",
    "        return 40\n",
    "    else:\n",
    "        # ignore all patients under 40\n",
    "        return 0"
   ]
  },
  {
   "cell_type": "code",
   "execution_count": 502,
   "id": "339af312",
   "metadata": {},
   "outputs": [],
   "source": [
    "# change this to data_2, data_3 or data_4 to use a different dataset\n",
    "data_folder = pathlib.Path('data_4')\n",
    "\n",
    "code_groups = pathlib.Path('code_groups.csv')\n",
    "demographics = data_folder.joinpath('demographics.csv')\n",
    "encounters = data_folder.joinpath('encounters.csv')"
   ]
  },
  {
   "cell_type": "code",
   "execution_count": 503,
   "id": "4b5d882a",
   "metadata": {},
   "outputs": [
    {
     "name": "stderr",
     "output_type": "stream",
     "text": [
      "[Stage 453:==========================================>              (3 + 1) / 4]\r"
     ]
    },
    {
     "name": "stdout",
     "output_type": "stream",
     "text": [
      "+----------+------+---------+--------+\n",
      "|      DATE|ENC_ID|      MRN|ICD_CODE|\n",
      "+----------+------+---------+--------+\n",
      "|2019-11-27|100020|C24633824| S93.321|\n",
      "|2019-11-27|100020|C24633824|S42.102D|\n",
      "|2019-11-27|100020|C24633824|S72.392D|\n",
      "|2019-11-27|100020|C24633824|V31.4XXA|\n",
      "|2020-01-14|100039|B04778727|S74.8X1A|\n",
      "|2020-01-14|100039|B04778727|  M48.13|\n",
      "|2020-01-14|100039|B04778727|T81.10XA|\n",
      "|2020-10-01|100080|B67938940|S22.068G|\n",
      "|2020-10-01|100080|B67938940|  M33.09|\n",
      "|2020-10-01|100080|B67938940|  S97.12|\n",
      "|2019-07-05|100093|B85223500|T54.2X3D|\n",
      "|2019-07-05|100093|B85223500|S12.110B|\n",
      "|2019-07-05|100093|B85223500| T71.194|\n",
      "|2019-07-05|100093|B85223500| M67.261|\n",
      "|2018-01-09|100116|C48169493|T82.128D|\n",
      "|2020-12-11|100118|C24687879|S83.004S|\n",
      "|2020-12-11|100118|C24687879|S07.8XXA|\n",
      "|2022-04-03|100124|C48946153|S06.9X1D|\n",
      "|2022-04-03|100124|C48946153|S92.236K|\n",
      "|2022-04-03|100124|C48946153|S82.001K|\n",
      "+----------+------+---------+--------+\n",
      "only showing top 20 rows\n",
      "\n"
     ]
    },
    {
     "name": "stderr",
     "output_type": "stream",
     "text": [
      "                                                                                \r"
     ]
    }
   ],
   "source": [
    "code_groups_sdf = read_csv(code_groups)\n",
    "demo_sdf = read_csv(demographics, date_cols=['DATE_OF_BIRTH'])\n",
    "enc_sdf = read_csv(encounters)\n",
    "enc_sdf.show()"
   ]
  },
  {
   "cell_type": "code",
   "execution_count": 504,
   "id": "7e3d0150",
   "metadata": {},
   "outputs": [
    {
     "name": "stderr",
     "output_type": "stream",
     "text": [
      "[Stage 460:============================>                            (1 + 1) / 2]\r"
     ]
    },
    {
     "name": "stdout",
     "output_type": "stream",
     "text": [
      "+--------+----------+---------+----------+----------+----------+----------+\n",
      "|  ENC_ID|      DATE|      MRN|ICD_CODE_1|ICD_CODE_2|ICD_CODE_3|ICD_CODE_4|\n",
      "+--------+----------+---------+----------+----------+----------+----------+\n",
      "|10005493|2017-10-19|A07177112|  T49.2X6D|   M93.949|       M00|      null|\n",
      "|10005659|2020-04-03|B96471583|       B30|   Z01.818|      null|      null|\n",
      "|10006023|2017-04-30|A10685652|   M20.029|  M84.444P|       C88|  S82.231E|\n",
      "|10019218|2018-07-29|A73021675|  V22.5XXS|  S60.465A|   S21.012|   M24.611|\n",
      "|10019957|2018-04-01|C41104627|    V96.05|     V87.1|   S06.1X7|    S37.92|\n",
      "|  100263|2018-06-12|A77568628|  S61.304A|  S62.601P|      null|      null|\n",
      "|10026422|2018-08-19|A83158064|    H18.54|    A92.39|  S63.111D|      null|\n",
      "| 1002883|2018-09-09|B32970140|  O31.31X9|      null|      null|      null|\n",
      "| 1003202|2019-10-10|C55076900|  S89.299S|       M35|      null|      null|\n",
      "|10037766|2019-02-10|C99145363|  S43.111A|  S65.299S|       R19|      null|\n",
      "|10042652|2018-03-16|C50619744|  O31.22X3|  S93.409D|      null|      null|\n",
      "| 1004364|2020-04-05|C99518038|   Y36.7X1|  M84.478S|      null|      null|\n",
      "|10047916|2021-08-30|B04981666|  T85.621S|  S63.699A|   S61.220|  S06.342S|\n",
      "|10050535|2021-02-28|B57911292|    R62.50|  S82.154N|      null|      null|\n",
      "|10053415|2018-08-12|A79310316|    C40.22|   L89.613|   S43.302|      null|\n",
      "|10068808|2017-06-12|B65393718|       D03|  W88.0XXS|  S98.922A|   O98.819|\n",
      "|10082275|2018-07-30|C92649919|    H53.69|   T48.4X6|  T59.891D|      null|\n",
      "|10083676|2020-02-06|B16912493|     B96.7|       O01|      null|      null|\n",
      "|10085192|2018-07-31|B43924813|  S62.633S|  S72.361R|       L53|   T85.850|\n",
      "|10085228|2018-04-28|C49135494|    C91.30|      null|      null|      null|\n",
      "+--------+----------+---------+----------+----------+----------+----------+\n",
      "only showing top 20 rows\n",
      "\n"
     ]
    },
    {
     "name": "stderr",
     "output_type": "stream",
     "text": [
      "                                                                                \r"
     ]
    }
   ],
   "source": [
    "enc_sdf = transform_encounters(enc_sdf)\n",
    "enc_sdf.show()"
   ]
  },
  {
   "cell_type": "code",
   "execution_count": 505,
   "id": "c2a85008",
   "metadata": {},
   "outputs": [
    {
     "name": "stdout",
     "output_type": "stream",
     "text": [
      "+------+--------+----------+---------+-------------+---------+\n",
      "|CLINIC|     MRN|FIRST_NAME|LAST_NAME|DATE_OF_BIRTH| FULL_MRN|\n",
      "+------+--------+----------+---------+-------------+---------+\n",
      "|     A|63450226|   Rebecca|   Parker|   1918-08-25|A63450226|\n",
      "|     B|62213719|      Ryan|Robertson|   1914-05-10|B62213719|\n",
      "|     A|19731324|  Danielle|    Lopez|   1922-07-25|A19731324|\n",
      "|     C|44649328|    Ashley|   Morgan|   1932-11-17|C44649328|\n",
      "|     C|33848268|      Juan|   Romero|   1950-11-22|C33848268|\n",
      "|     C|27893296|   Maurice|   Atkins|   1945-07-06|C27893296|\n",
      "|     B|63621992|     Paige| Hamilton|   2014-04-03|B63621992|\n",
      "|     A|44486390|     Kelly|   Morris|   1948-08-28|A44486390|\n",
      "|     A|59817580|      Mark| Thompson|   1973-02-23|A59817580|\n",
      "|     A|52765016|    Amanda|    Woods|   1996-11-23|A52765016|\n",
      "|     C|33480965|     Erica|  Swanson|   1976-12-31|C33480965|\n",
      "|     A|48204670|  Lawrence|       Yu|   1927-11-10|A48204670|\n",
      "|     B|43088820|    Brandy|    Ramos|   1968-09-03|B43088820|\n",
      "|     B|37998719|  Lawrence| Reynolds|   1952-06-01|B37998719|\n",
      "|     A|81166102|   Gregory|   Thomas|   1990-05-11|A81166102|\n",
      "|     B|09751581| Christina|Hernandez|   1930-07-06|B09751581|\n",
      "|     C|27604322|      Eric|    Mckee|   1912-09-13|C27604322|\n",
      "|     C|60171918|      Mark|   Gibson|   1961-08-15|C60171918|\n",
      "|     C|02526735|      John|Alexander|   1989-05-08|C02526735|\n",
      "|     C|82864405|    Jeremy|Whitehead|   1906-12-16|C82864405|\n",
      "+------+--------+----------+---------+-------------+---------+\n",
      "only showing top 20 rows\n",
      "\n"
     ]
    }
   ],
   "source": [
    "demo_sdf = demo_sdf.withColumn(\"FULL_MRN\", sf.concat(\"CLINIC\", \"MRN\"))\n",
    "demo_sdf.show()"
   ]
  },
  {
   "cell_type": "code",
   "execution_count": 510,
   "id": "48aa1e1a",
   "metadata": {},
   "outputs": [],
   "source": [
    "enc_sdf_added_cols = (\n",
    "    enc_sdf\n",
    "    .join(demo_sdf, enc_sdf.MRN == demo_sdf.FULL_MRN)\n",
    "    .withColumn('AGE', sf.datediff('DATE', 'DATE_OF_BIRTH') / 365)\n",
    "    .withColumn('AGE_BUCKET', sf.udf(age_bucket)(sf.col('AGE')))\n",
    "    .withColumn('ICD_CODE', sf.expr(\"stack(4, ICD_CODE_1, ICD_CODE_2, ICD_CODE_3, ICD_CODE_4)\"))\n",
    ")\n",
    "results = (\n",
    "    enc_sdf_added_cols\n",
    "    .join(code_groups_sdf, enc_sdf_added_cols.ICD_CODE==code_groups_sdf.ICD_CODE)\n",
    "    .groupBy('AGE_BUCKET', 'GROUP').count()\n",
    "    .withColumn(\n",
    "        '_row',\n",
    "        sf.row_number().over(Window().partitionBy(['AGE_BUCKET']).orderBy(sf.desc('count'))))\n",
    "    .filter(sf.col('_row') == 1)\n",
    "    .drop('_row')\n",
    "    .filter(sf.col('AGE_BUCKET') != 0)\n",
    "    .orderBy('AGE_BUCKET')\n",
    ")"
   ]
  },
  {
   "cell_type": "code",
   "execution_count": 511,
   "id": "e762006b",
   "metadata": {},
   "outputs": [
    {
     "name": "stderr",
     "output_type": "stream",
     "text": [
      "[Stage 474:===========================================>         (166 + 1) / 200]\r"
     ]
    },
    {
     "name": "stdout",
     "output_type": "stream",
     "text": [
      "+----------+-----+------+\n",
      "|AGE_BUCKET|GROUP| count|\n",
      "+----------+-----+------+\n",
      "|       100|    8|143884|\n",
      "|        40|    8|107114|\n",
      "|        50|    8|106948|\n",
      "|        60|    8|106857|\n",
      "|        70|    8|107118|\n",
      "|        90|    8|213930|\n",
      "+----------+-----+------+\n",
      "\n"
     ]
    },
    {
     "name": "stderr",
     "output_type": "stream",
     "text": [
      "                                                                                \r"
     ]
    }
   ],
   "source": [
    "results.show()"
   ]
  },
  {
   "cell_type": "code",
   "execution_count": null,
   "id": "2f479aca",
   "metadata": {},
   "outputs": [],
   "source": []
  }
 ],
 "metadata": {
  "kernelspec": {
   "display_name": "Python 3 (ipykernel)",
   "language": "python",
   "name": "python3"
  },
  "language_info": {
   "codemirror_mode": {
    "name": "ipython",
    "version": 3
   },
   "file_extension": ".py",
   "mimetype": "text/x-python",
   "name": "python",
   "nbconvert_exporter": "python",
   "pygments_lexer": "ipython3",
   "version": "3.8.13"
  }
 },
 "nbformat": 4,
 "nbformat_minor": 5
}
